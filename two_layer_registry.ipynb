{
 "cells": [
  {
   "cell_type": "markdown",
   "metadata": {},
   "source": [
    "# Tool Registration and Acrion Registration Explained"
   ]
  },
  {
   "cell_type": "markdown",
   "metadata": {},
   "source": [
    "First we build a tool registry with decorator. This helps register all the tools in the same format and be able to use them by the agent"
   ]
  },
  {
   "cell_type": "code",
   "execution_count": 1,
   "metadata": {},
   "outputs": [],
   "source": [
    "# Tool registration\n",
    "tools = {}\n",
    "\n",
    "def register_tool(tags=None):\n",
    "    def decorator(func):\n",
    "        tools[func.__name__] = {\n",
    "            \"function\": func,\n",
    "            \"description\": func.__doc__ or \"No description\",\n",
    "            \"tags\": tags or []\n",
    "        }\n",
    "        return func\n",
    "    return decorator"
   ]
  },
  {
   "cell_type": "markdown",
   "metadata": {},
   "source": [
    "Here are some examples of the tools that get registered in our tool registry when we use @register_tool"
   ]
  },
  {
   "cell_type": "code",
   "execution_count": 8,
   "metadata": {},
   "outputs": [],
   "source": [
    "# Step 2: Register some simple tools (like your file_tools.py)\n",
    "@register_tool(tags=[\"math\"])\n",
    "def add_numbers(a: int, b: int) -> int:\n",
    "    \"\"\"Adds two numbers together\"\"\"\n",
    "    return a + b\n",
    "\n",
    "@register_tool(tags=[\"text\"])\n",
    "def make_uppercase(text: str) -> str:\n",
    "    \"\"\"Converts text to uppercase\"\"\"\n",
    "    return text.upper()\n",
    "\n",
    "@register_tool(tags=[\"system\"])\n",
    "def say_goodbye(message: str = \"Goodbye!\") -> str:\n",
    "    \"\"\"Says goodbye\"\"\"\n",
    "    return f\"Agent says: {message}\""
   ]
  },
  {
   "cell_type": "markdown",
   "metadata": {},
   "source": [
    "Lets see the list of tools available"
   ]
  },
  {
   "cell_type": "code",
   "execution_count": 9,
   "metadata": {},
   "outputs": [
    {
     "data": {
      "text/plain": [
       "dict_keys(['add_numbers', 'make_uppercase', 'say_goodbye'])"
      ]
     },
     "execution_count": 9,
     "metadata": {},
     "output_type": "execute_result"
    }
   ],
   "source": [
    "tools.keys()"
   ]
  },
  {
   "cell_type": "markdown",
   "metadata": {},
   "source": [
    "We define an action class that takes the name, function and description of a tool and enables exceution"
   ]
  },
  {
   "cell_type": "code",
   "execution_count": 10,
   "metadata": {},
   "outputs": [],
   "source": [
    "# Step 3: Create Action class (like your GAME.py)\n",
    "class Action:\n",
    "    def __init__(self, name, function, description):\n",
    "        self.name = name\n",
    "        self.function = function\n",
    "        self.description = description\n",
    "    \n",
    "    def execute(self, **args):\n",
    "        return self.function(**args)"
   ]
  },
  {
   "cell_type": "markdown",
   "metadata": {},
   "source": [
    "In the action registry, which is the second layer of registry for tools, we can register actions and filter available actions. For example, all the tools that have a specific tag get into the same group, and then later when we look for available actions we can:\n",
    "\n",
    "Filter by relevance: Only show tools that are relevant to the current agent's purpose (e.g., only \"file_operations\" and \"system\" tools for a file management agent)\n",
    "Organize by capability: Group related functions together (e.g., all \"math\" tools, all \"text\" tools, all \"database\" tools)\n",
    "Control access: Limit which tools different parts of the system can see and execute\n",
    "Provide a clean interface: Convert raw tool dictionary entries into standardized Action objects that are easier to work with\n",
    "Enable dynamic selection: At runtime, the agent can request only the tools it needs for a specific task, rather than being overwhelmed with all available tools\n",
    "\n",
    "Example: An agent focused on file operations doesn't need to see text processing or mathematical tools - the ActionRegistry filters out everything except tools tagged with \"file_operations\" and \"system\"."
   ]
  },
  {
   "cell_type": "code",
   "execution_count": 11,
   "metadata": {},
   "outputs": [],
   "source": [
    "# Step 4: Create ActionRegistry that filters tools \n",
    "class SimpleActionRegistry:\n",
    "    def __init__(self, tags=None):\n",
    "        self.actions = {}\n",
    "        \n",
    "        # Filter tools from the global registry by tags\n",
    "        for tool_name, tool_info in tools.items():\n",
    "            tool_tags = tool_info.get(\"tags\", [])\n",
    "            \n",
    "            # Only include tools that match our desired tags\n",
    "            if tags and not any(tag in tool_tags for tag in tags):\n",
    "                continue\n",
    "                \n",
    "            # Convert tool to Action object\n",
    "            action = Action(\n",
    "                name=tool_name,\n",
    "                function=tool_info[\"function\"],\n",
    "                description=tool_info[\"description\"]\n",
    "            )\n",
    "            self.actions[tool_name] = action\n",
    "    \n",
    "    def get_available_actions(self):\n",
    "        return list(self.actions.keys())\n",
    "    \n",
    "    def execute_action(self, action_name, **args):\n",
    "        if action_name in self.actions:\n",
    "            return self.actions[action_name].execute(**args)\n",
    "        else:\n",
    "            return f\"Action '{action_name}' not found\""
   ]
  },
  {
   "cell_type": "code",
   "execution_count": 12,
   "metadata": {},
   "outputs": [
    {
     "name": "stdout",
     "output_type": "stream",
     "text": [
      "=== LAYER 1: Raw Tools Dictionary ===\n",
      "All registered tools: ['add_numbers', 'make_uppercase', 'say_goodbye']\n",
      "- add_numbers: tags=['math']\n",
      "- make_uppercase: tags=['text']\n",
      "- say_goodbye: tags=['system']\n",
      "\n",
      "=== LAYER 2: Filtered Action Registry ===\n",
      "Math registry has: ['add_numbers']\n",
      "Text registry has: ['make_uppercase']\n",
      "Multi registry has: ['add_numbers', 'make_uppercase']\n",
      "\n",
      "=== EXECUTION EXAMPLES ===\n",
      "Math registry: add_numbers(5, 3) = 8\n",
      "Text registry: make_uppercase('hello world') = HELLO WORLD\n",
      "Math registry trying text tool: Action 'make_uppercase' not found\n"
     ]
    }
   ],
   "source": [
    "# Step 5: Test the two-layer system\n",
    "if __name__ == \"__main__\":\n",
    "    print(\"=== LAYER 1: Raw Tools Dictionary ===\")\n",
    "    print(\"All registered tools:\", list(tools.keys()))\n",
    "    for name, info in tools.items():\n",
    "        print(f\"- {name}: tags={info['tags']}\")\n",
    "    \n",
    "    print(\"\\n=== LAYER 2: Filtered Action Registry ===\")\n",
    "    \n",
    "    # Create registry that only wants math tools\n",
    "    math_registry = SimpleActionRegistry(tags=[\"math\"])\n",
    "    print(\"Math registry has:\", math_registry.get_available_actions())\n",
    "    \n",
    "    # Create registry that only wants text tools  \n",
    "    text_registry = SimpleActionRegistry(tags=[\"text\"])\n",
    "    print(\"Text registry has:\", text_registry.get_available_actions())\n",
    "    \n",
    "    # Create registry that wants math AND text tools\n",
    "    multi_registry = SimpleActionRegistry(tags=[\"math\", \"text\"])\n",
    "    print(\"Multi registry has:\", multi_registry.get_available_actions())\n",
    "    \n",
    "    print(\"\\n=== EXECUTION EXAMPLES ===\")\n",
    "    result1 = math_registry.execute_action(\"add_numbers\", a=5, b=3)\n",
    "    print(f\"Math registry: add_numbers(5, 3) = {result1}\")\n",
    "    \n",
    "    result2 = text_registry.execute_action(\"make_uppercase\", text=\"hello world\")\n",
    "    print(f\"Text registry: make_uppercase('hello world') = {result2}\")\n",
    "    \n",
    "    # Try to use wrong tool in wrong registry\n",
    "    result3 = math_registry.execute_action(\"make_uppercase\", text=\"hello\")\n",
    "    print(f\"Math registry trying text tool: {result3}\")"
   ]
  },
  {
   "cell_type": "markdown",
   "metadata": {},
   "source": []
  }
 ],
 "metadata": {
  "kernelspec": {
   "display_name": "mlcc",
   "language": "python",
   "name": "python3"
  },
  "language_info": {
   "codemirror_mode": {
    "name": "ipython",
    "version": 3
   },
   "file_extension": ".py",
   "mimetype": "text/x-python",
   "name": "python",
   "nbconvert_exporter": "python",
   "pygments_lexer": "ipython3",
   "version": "3.11.13"
  }
 },
 "nbformat": 4,
 "nbformat_minor": 2
}
